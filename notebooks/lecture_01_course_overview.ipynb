{
 "cells": [
  {
   "cell_type": "markdown",
   "id": "893c435f",
   "metadata": {
    "slideshow": {
     "slide_type": "slide"
    }
   },
   "source": [
    "# CYPLAN 255, Spring 2024\n",
    "## Urban Informatics and Data Visualization\n",
    "\n",
    "#### Instructor: Max Gardner\n",
    "#### GSI: Meiqing Li"
   ]
  },
  {
   "cell_type": "markdown",
   "id": "8ff6adeb",
   "metadata": {
    "slideshow": {
     "slide_type": "slide"
    }
   },
   "source": [
    "# Lecture 01 -- Course Introduction\n",
    "*******\n",
    "January 17, 2024"
   ]
  },
  {
   "cell_type": "markdown",
   "id": "71e23616",
   "metadata": {
    "slideshow": {
     "slide_type": "slide"
    }
   },
   "source": [
    "# Agenda\n",
    "1. Introductions/Zoom check\n",
    "2. Background\n",
    "3. Syllabus\n",
    "4. For next week (\"homework\")\n",
    "5. Questions"
   ]
  },
  {
   "cell_type": "markdown",
   "id": "45308365",
   "metadata": {
    "slideshow": {
     "slide_type": "slide"
    }
   },
   "source": [
    "# 1. Welcome"
   ]
  },
  {
   "cell_type": "markdown",
   "id": "03d2c146",
   "metadata": {
    "cell_style": "split",
    "slideshow": {
     "slide_type": "slide"
    }
   },
   "source": [
    "## 1.1 Who am I?\n",
    "\n",
    "- Max Gardner, Ph.D. in CEE from Cal ('22)\n",
    "- Based in Los Angeles\n",
    "- Geodata person for ~10 years\n",
    "- Researcher/Data Scientist at Streetlight Data \n",
    "- Really into Letterboxd right now\n",
    "- 1 dog (Rupert)\n",
    "\n",
    "\n",
    "\n",
    "\n",
    "\n",
    "\n",
    "\n",
    "\n"
   ]
  },
  {
   "cell_type": "markdown",
   "id": "7bc92a22",
   "metadata": {
    "cell_style": "split",
    "slideshow": {
     "slide_type": "fragment"
    }
   },
   "source": [
    "<img src=\"https://lh3.googleusercontent.com/pw/ABLVV84c4qOt_iNlrSgFusT_n0dJhTfVGOIVBiJqGLpC2a9NHxmarzKxl5Jq0NZ9WRqsdtvjvshx4QPURpRpXz58mXYMPWyA_X6cuQqjOhuWBp34Lj8-KGE1oRvo2xs3Nu4nYwlDEJjFP_lQuwap-AmVj4ofTI9zLRVJHhW95dQslpN7U1KliiN1AsMdHhDFLmnl8JpNwjQcrKiHFZI2PGKxAH8wv7CWFn6x4mwC8tMLipM-bktKTLRn3VPub_Elk8NIBvKI8Jyb-FAMEjmrveAYkItirrqPqFxgyqBCpbeOQ9kgwLnDAuZl6Iui34ve84B5G1ohqMGoHRtOdQyjIlzREbioNEU3gVV1Kr-5tu_Mo81ShO9yGTfeYOsECZoh1YrnRiM_OaGOTZI17KUu7BqeueXtLsDVbAmwgfv3rqX2BnvY6bLAOmCuPGVPnPk28v9m1twnBFdLmLTTKo6ps0Ca6pn-sBauhjHsuJbpK--pZ7-M48ar8SIMdwDFMpGTy6lRfonxjNs175_7X0davvxE5ZoDVvMLxZ_1ShSbeAXN9IFFPLRpjO36ZrVM9mguJw-qcALruiw0lLO0hGqphDcMtBB5WUrrefdmTxkry-HnNZwbxh0lw5qUaTIT-A5bTc6Bwx5LiI5_Yg5jJwHqUtBtkgk3MfSc20iFsz5WDs_-30hdfLTUNZuWf1dY-8xklhwFO_dihrxcXzJseSmgIkvaPvfbbl-OOPFvAYSSaIMUL1E9BgAuy4EQ643r_hBCK8U3gqFcCWKIOPI9LmSDpufqgagJtOuP98wxkQOOLWnlyZnqERV2DHDnwdaDp7-O7Q-5jB5a_YJGzEPTcxllaxEjbKyyU8kxmsN5Gy5Zudqk1pFkmtTqYQ9K2MvUZZteFExR3Cudb2EqMLNdM-CY-apZc4bV97Fyr6gtP7NPn3Q1=w1944-h2592-s-no?authuser=0\" width=30%>"
   ]
  },
  {
   "cell_type": "markdown",
   "id": "1b8952d5",
   "metadata": {
    "cell_style": "split",
    "slideshow": {
     "slide_type": "fragment"
    }
   },
   "source": [
    " - Expecting 1 child (Oscar) in March (!)"
   ]
  },
  {
   "cell_type": "markdown",
   "id": "50864cd7",
   "metadata": {
    "cell_style": "split",
    "slideshow": {
     "slide_type": "fragment"
    }
   },
   "source": [
    "<img src=\"https://lh3.googleusercontent.com/pw/ABLVV87rvAsudfbg9ByCtDwF8mPHFEMDbU9G72ADIuaJXd0PAwW3hpVLwnXle98YJq1mgqiCOD-rpuGpxeQNTtohcHhQ8gHyK86Mcrfs-jbCdnry63_taEeL2gOujEmbrXsn-CfAd-kpbwJIQeKwEWVjUruPJLB4E1gzFzdfQhUOUP5s0Qb54ZkGCwsZ4Pw2v-JvPZMs0nLW_Gsbi-Hmb11oikAVAYU0q_XoqmLx2ejiJcszXZ76Tyw7eSOEWqTZ3_pBFysuUiwxhuj2_RTo26pYJw7_0KJ4ZCPZR-ZhpaWrCSHWrB_RMmOintKvJ1dug9JWmtQS_QSSuF_WFqA9adNlf6cgW5EHXS1EmRl-N3j14HPEVB4HX6K39sxAhdAQyokSfHecHX9xMC6TJi4pbpdSiYwvdgzpry5jgHqdpENvvuzpePY7iot7hR0UPufVSOa8d_GJQAX3env5CGSBtLje-JN3XBFMpfeAMp2zgR_NmraphrcsrOyCEXUpnuYHEJZP4WXDDub9qV08NC71xmaqQ7lB67-VpbHpxHqOxIua0P0abFk9C9O2kgrapGgzAgt1ZeL7VfUYVmT8CLeghGE_ytS8tdoX39wOsl_mRvUhbGOXZIKFF-FCv1WOr1wKimW-EFhjxAL90VjsBD1jColj1mitsG8YkM0bOqdQSb6UjydyCPaZW9mMkJEXV_sZboKO0PIGexM24b3E9kwTO_Ww3vO0xagVGd0woZ-sDAGI01sHQgzDbrjeK0oK9DvwtNmoNx1ce7nDh7btEue_ldZMSSmKAPpXZjYSa1MrZ1yZN1cS3zpeNonE3XIfXzct04La5OEZd2R3b4ItYpVYsiAMOO5OYOOqzLr_w9xDDn_MBDKsdkKSNq16E4WF1OMCoVpXp5QeM6D5Tt1jyxyioUEPlu_EQBOhInVzZryMLM2u=w1192-h1210-s-no?authuser=0\" width=50%>"
   ]
  },
  {
   "cell_type": "markdown",
   "id": "902020e9",
   "metadata": {
    "slideshow": {
     "slide_type": "slide"
    }
   },
   "source": [
    "## 1.2 Who is your GSI?\n",
    "- Meiqing Li, Ph.D. Candidate in DCRP"
   ]
  },
  {
   "cell_type": "markdown",
   "id": "f2382d3e",
   "metadata": {
    "slideshow": {
     "slide_type": "slide"
    }
   },
   "source": [
    "## 1.3 Who are you?"
   ]
  },
  {
   "cell_type": "markdown",
   "id": "29467215",
   "metadata": {
    "cell_style": "split",
    "slideshow": {
     "slide_type": "fragment"
    }
   },
   "source": [
    "![](https://lh3.googleusercontent.com/pw/ABLVV84VjBIVjIGE7QffH_V9BTouf5RLkPbqsfaVbnH_9QY75TzfB0PQs3rcZVKKfKKpfIPKyAVtBY6jn9aa8r0x3emw5Mdf3i6UBItJlCJ72XHpMyol6NTBGZH-8hBB4e0zqWX2MhdYab4FaoWc3OBS5hYtlf0hKWpttNrhhW4L9ROyKkIWKBvgVr0vdpMW0Brppwr60u_3TCcjkIDVzpXw63KxJ51BLPK5vioQd08Au40X3pf1bNqKu1vGRKDiAjKGEfMP_k23m6AJ60b3UkJzLIMuSWGjw_tIBVQDh-B3v8XSIiE8PC2Cl5vi4eyu5IIVCY2sDNmlbYO8njDbIFZyhsvN5xvBcIGf7ytvaTwKJeFf5Ri9s9jdzxWB0BOo5SDg9a4K-lUwkM2iE-ZoyDmkaO4eTbhS9jMZ6xpiei6NPdZP4w2-Jy3HZgl7ETmfFCG5UQ7g2Au1RZW-se6q4hVhvfMX7qN7Wo69qljMRCjw_YjOsh-hBi1SbY1MSMiKHiH-m2TOYw2nLkBwAX2yXWfvrGdc1HRTGfht9SZxjwPKYwIrVB4lWMWeFcX-5F7k7IqpokE1KFa9E5vEIrwlA-ujgygCFx4E6hjL1h7w6Zm47sO-dbUQ0e_tJCDAk0JZ29SqMEHMGCh5kstQDgXXJj1owUiaw-dc3LR-CNP3gCjoGNG9PobZ96KJaDhA1RmyzEZ3eSSxsxsA9taDNfmcfLrq67ouI516B-NQO63GuYDdWY21jW4Fg0Qf6E_vgjL7RY1YIVAz_BNnwX0Y1a8m2uAWO0ehn1F3sdx2lVCx3A1dyT0VzCV8wLq0PKmc4upM9JQ-w4iV_ZykeITSKixnO639an82e9lXT0-koyIsdIMsCuN6P-vjMYqSgmyUROSFnDggy4E_pjrJxJBuwkfADU5S5VtUyhlrJGdBXATVELA7=w1492-h574-s-no?authuser=1)"
   ]
  },
  {
   "cell_type": "markdown",
   "id": "0e0bd327",
   "metadata": {
    "cell_style": "split",
    "slideshow": {
     "slide_type": "fragment"
    }
   },
   "source": [
    "![](https://lh3.googleusercontent.com/pw/ABLVV859nvH7JMHtb0wEeqy94TWqgozp18lAJeYzbuojqXdP2TizG740uuf77V4-ZnKF2Jikbuka2b95x1LHAquPw08OQ2s6NdIbQRYKzuf0Ga0wiap5RzRItgQ6s1R7bqz0UbVCKlldNx3E5HPGx9yZ_OHtAIvwmqDyrqzJBqAwQdfurFYLAUjvgXqDSCPiTW3PYLoTdXQDr9V_5C22lN3AxIw2MnvB-uNEImjTXvysEoDhqaOO_8A_bWLt3CvvjCr0CpvJKyw-nXiN6Amu4gN3OFrIuWBxxNXedNq_n8O-oz3QO4k50U9IbDN6MCJIWvCwS0XlrthQT8EtNu-6up-_ynQRAL-hcmvwdPXVwC2ZdZ-61cG2oJX_1KoK8fXrY3IGCEk1YFy_WeetSY4wZGXS0HsAKFwluDkNgazuiYsJwTEBABpVHcJmSyLVgQu7K7ytABkFmT1lbQw6if31SP0_NQR8i_Vi0g98DjbW4yWuM07WzjDC__E1FvYDELk3ce6ZNpVsZKaH9nnXcIdzYQ43nPecbUhPvFDD_S-YObsw9KeriLx6tqkDpHls-zz94c6jNXcQPUv3jIX-7eaVcdRnOxnRewXajlR-Q4o39ADSwQGqcN8Np6aKyOTeVnPJBHnJa0ADDbI1PT3LHEuN4GSnZWvlRpTmRfgkdJuruL03FB4JfVFS3rX7vdXJyNym9S-FucugxLsz74ue4DIHkH7ydwe3sUQ6awi53AJD1-p-yLjnyzfOI2PhR3FU2a64qoh9oKA7H_2eTBLyfxv7yfEidiWIoHGsYUk2ua0MFwH7W2o9KDHJy7uMlvbzU2NaUOuAbNS-VapDShws12t8LiSsA7B9MvecpqMD5T_LXxylmjk8g2C6XOYYquI6rOu4IW8qT0e3-fPsXkywguti7fnhHm_biUAiJyfyEtxyK66t=w1512-h652-s-no?authuser=1)"
   ]
  },
  {
   "cell_type": "markdown",
   "id": "c353de3b",
   "metadata": {
    "cell_style": "split",
    "slideshow": {
     "slide_type": "fragment"
    }
   },
   "source": [
    "![](https://lh3.googleusercontent.com/pw/ABLVV87GN_ZBNT_mPsc0fuu44h69zHHgteovGv6EfAtj7_xuY1z6Rvp0g7EXazVHyV1vAjJAQFokMMOG9_9JVoOqP7UY9YV0BIOJXLoA1dxN-4sY8l_DIqC1L_O3wLLVfetZjUWn8aANtBoG2O8KGcnFMRgWqPWgthg8ibcsKZXPA4Qm_ldG139MRzTVzfkBmr2CwI0iC1I9wBqJd981PIgpsTOHChWCQsP2k7c1OTRkUgFsObwAEYyJDIkkI40WGmfj5ALFlLbuJyiFgW7_AsZ_Yo9kkk2zzcEB-KbrGRaBEVbomIpOBE25vY8ILFSJftpXjxqORv4SJWWPuUHf9FSw6zXqLPbPN04DWFAQ_n4gNJjiY3VNFEpm1nZAcv-S_KeC0zojNh5kkZYTYGyABGM0r6PLuAyEOTxyW4aVa4xu3hkNskoVY8h04sQEguo7K2a5RocA30hd7BRbzqGAa2BU8Bc8w2cCiw5NcrbvSmX_rgfKVWYXDkDlIXbXsHNFD37XGxclBogco5Xw201r7XaIXxiYMeLbdc6ApyDzffKyb6DoiuQpvWcHNLUsmZs55Jw1oIk8QkJzgcQX7oZMPv_bBjLKvjJAqmZmbect1yDPP-_6bGFw2oa7ago6O8hv0xfcEtLtIUG4i7jHpenDGsLUH_cgZgeNNYK5QOnuKmGbJMXs02gSYJyNX0Cn7eKx7prx1badWt-8N1hBFp72z2AEjGdMBBUXBPs5X62DGVF3j2Yrf-ADDv-wDKkYXp2ITIGvQrGR9v9dFn2WsNw50hHJTaBAHffjOs3NPFejdQQpvJoYxiOBNcG5y_wj-vPlTtPNTLO2sHLaPHm0T-oBxszsPPRObz83dg04uWtJ_bNEgByfo4e2r1HFB_JNdISxddaF9aXL-jZPjfabejPtlMzCgYBeGGvOwXExoWZr1pDZ=w1506-h604-s-no?authuser=1)"
   ]
  },
  {
   "cell_type": "markdown",
   "id": "56439944",
   "metadata": {
    "cell_style": "split",
    "slideshow": {
     "slide_type": "fragment"
    }
   },
   "source": [
    "![](https://lh3.googleusercontent.com/pw/ABLVV879YyRm_qb5-vxBoe230YlGQfeWrAWfF6Pd5c0i3fpzdyOaJDXmVKSz67rKUyxIwJjOtq3yjx-ZFdXNYtm3ue1cCkhAqM94IBitRAuOZ-2LbuugA8VhnZRaqUAkog6rRecBRwn_oWXU2tfJOWXbCLTU_NrxpANq2Qok7JBtf16_pyZWDny4kerh9u4Uh-kNW_VA7A5yCBm4vT7GheNKbW7q5H1uvL6NgQ7M0W58ea-xJ9PJFDR5EKJ6l36IHcg_iJncT16O5nSUpVgIqOZ0R2Kr2Ziz82KFh3Jto_KxbWtoKPIUblVLzEGjMGKObGzR29kLJPlNe5kJXz-oekdfiZfXAEVARlvA5fZNpmy1nf5wYrJiwZU5kV6cFLKSjLgVPEdgInus4rSx6A75r1e_wVt5UqXoazHRt6cIrBav8_Kvbmj_jOKb6dZCyiOD2LE-DYb9dNXqQdSjiiqFwTKeUAtrH8VqJJ2zu1FFs6JJ2x7vckhMip8lTE0UAo1P5oGCPx6sSLwDqMDxeLoPGvfA2HvEYu_CiV1L5nMu-WJL1OJVsToeNdBVPSRjeiXeSDOKj1Agdt2i-PiXVqpZ7Kp6p-JhkVvliGLktGb83z9Kpx8hct1huSwO69QGmtxyAcaJ3i6gHjxGFDWjXJ9UEFaognMhQodejQNwwPeXioHJT44PE1L7gualjyLPYio7feHctOObmcBR2UYFVjbTpBWPUvwFEG4Q1zUPcH9JmYDnJycPDV6IX3Qc0b_wfbGsA1mhkzMvvBFsUkAAJNeyP0qNs3RlZjAIVgTDCKygAlthzYocyP_KKJJemsbl9a8b_YvPByyviJqwwIHepMUIeZrKz6YEcLacajxtN7c7hQOYYCGgDVw-OZuzBnI7GbaxCASKYJLpy3lhuRzs0IKAGrZ-ktULW_wzpMnjwmGto3cU=w1514-h618-s-no?authuser=1)"
   ]
  },
  {
   "cell_type": "markdown",
   "id": "8a95a755",
   "metadata": {
    "slideshow": {
     "slide_type": "slide"
    }
   },
   "source": [
    "## 1.4 Testing Zoom functionality"
   ]
  },
  {
   "cell_type": "markdown",
   "id": "92bca53a",
   "metadata": {
    "slideshow": {
     "slide_type": "slide"
    }
   },
   "source": [
    "- Survey: what is your home department?\n",
    "- Breakout rooms: \n",
    "  - What do you want to get out of this course?\n",
    "  - What is the point of learning to write code?\n",
    "  - What makes a good data analysis?"
   ]
  },
  {
   "cell_type": "markdown",
   "id": "a5e44c0c",
   "metadata": {
    "slideshow": {
     "slide_type": "slide"
    }
   },
   "source": [
    "# 2. Background "
   ]
  },
  {
   "cell_type": "markdown",
   "id": "a1ab19fb",
   "metadata": {
    "slideshow": {
     "slide_type": "slide"
    }
   },
   "source": [
    "## 2.1 What is Data Science?"
   ]
  },
  {
   "cell_type": "markdown",
   "id": "e2320ba2",
   "metadata": {
    "slideshow": {
     "slide_type": "fragment"
    }
   },
   "source": [
    "<img src=\"https://lh3.googleusercontent.com/pw/ABLVV862V58yOybT2ewaEPoKJsVks9F-GhjW3NdwME8pQhRjkJQOaEhCllaPeLhz2Z1IcRxrY2FQBULWb8AmYQkj7fByIx4D77U8hOfvNhjVe9kZxHPWZXzu1mZ_gZfBPw6Fw45OEUo4K04gAxKkdNDcDr_ay-bg5zcFkazudLdf6bvPa7wEJ06KD1H78opQ-h0JIiQwuocg0QP6aW3mbnTBQKX4k_L207CG6R4kg81TxZep-_UfA9blaITNdA2kt5R8Xk1eaM_cB7uNVqpPB4ZLs4PYY88rlz60Swgm7pkDr5lDtFMmRWxfyrQjbvse1jvfu_XNVD10hRvzwpzYta9WoKZDAZo0Qu2ozOhP1SFij-cqND50fTZKRVZb5IuSUqAiAUFDvnnICuj17LLQV7mK_6ykSol2IA0ohqk0phDdvz3gZ1KTGUtLx7XXeaZC4fNxxzsPZbKKlYY-qz8t_IQNBqFkbcvdc9X65ZMJhsX2bytk1eWpzUB7mWtEaLlWYd3-HKwJk11w5qJtGznSrroENTrchHQCTkIsZanQf4QArkxPJ8lbMP0CY4JRW8d9G8Zsa2awlDs4lcc30tiAEkRlHJfHt_iR_Ut62eRYsDjwvnFtf7NKSLAcV2OOYN7Jd_J9GsR9wjZqkPQGhaVfqoClUFT7kDtIRxOaC7S1Ws-ujXrcmZHICut65sNoe0fOJFqk3pSpgu_f4pyDEy7H0U7HLDCHKTt-i005NkQ7K2s-c6r20haB3YHgD9LmxOlmSvIwzVlTNMPVK3NfjVDTLeb4eerMj3C_V_hgucCeVneQOfXnMRo7oVA2Q7FVP775SAwCfFPIG5D-5GMLNuxCRsazFRWBve-HILmVpE1XIzGP9G5slydxCd6lliDwIyg2m1QD3qCOvpkatWOsqktZz1qMqViDdYLocCPADe7Qg5iB=w2864-h1390-s-no?authuser=1\" width=80%>"
   ]
  },
  {
   "cell_type": "markdown",
   "id": "1eab78d7",
   "metadata": {
    "slideshow": {
     "slide_type": "slide"
    }
   },
   "source": [
    "## 2.2 What is \"Urban Informatics\"?"
   ]
  },
  {
   "cell_type": "markdown",
   "id": "57cade8b",
   "metadata": {
    "slideshow": {
     "slide_type": "fragment"
    }
   },
   "source": [
    "<img src=\"https://lh3.googleusercontent.com/pw/ABLVV84enBI9s5G2_rclHw6U9VlUANhfZRtEfckmso5ogycUKV7QyE4G8IM2ieJyEcnTrzSsZsLYjo9U6QlD8hgp89QDSZMwJQ8yNT_pZ_1MzW1k1tZulPb2QKkrm5iyAc_0KXxV8paKit3NJyxeiAa1ouJDfB6-LoIRxYSjzuI8BHB39NG2xzd4aEjAYhWfD50XAU4jOLzPBguKi2iC5BYJAdvxH9CwFeo1m33qQwhWcecPSCrY4MMkqY9EURVJy1JhRFS5scDBqvJYjLTPvX4i4iedqKLwrO6Wsr9UQ3oZINkImw33yioudwq9SL5y7Uq0zOc6d8HggpvMFgdIwHEFhCCWDp-fN6VPjt8Z-h-L6BpTrGVwL0SE_FbYu6DGUTPmOXjqKp38sVNmSCK39bV3nQDlsl8lcSeL-i5cmTIvm2dT2KmWyD8y6DkP8rfylLDqwzBZLl9lh62bc-PamFRKmY13yV--V-An71Oj7mGnzO7jcaLYdxjSIpnaKxecMPJINGW-TOV9HdgeKcvWxLTRjknjN2W8giYJ9E5L_AiqlgZxutNOCdZPdTVf8G3dZX0HSZiWCdMrJSFsQk9S41JhoHlVhc_ueN_wEYyytHDA1NVGDuosvdN45E8H-3fprnbXFt0q2eNjDe6SlspGxQepgvtgxx9lpdwbaKhDEbSenii9WRwVHtQ6q4A0RXsPgf8qMQrW7oyl1N7L17RPZgBBnUW1hKuwzLLQS6fLjdH5JSAF6aqnM2LTw8u5WqCz99uzZf-H6V7RdHbPnRpmgdARfOiRd4DNeGOtXRVL5QDfqT7biv8Fgj8spVBap9kyoprdgIiOSZd78DOMysrJH8Q82mrTxEIZ3xP7YceRemmzgM3E0ehCdVp3Ak5oxPtYoZP-ZoLR2YbAnSErZrZyoztrvebW5-jDbNoU-rgcO-Nr=w2844-h1798-s-no?authuser=1\" width=70%>"
   ]
  },
  {
   "cell_type": "markdown",
   "id": "377c9620",
   "metadata": {
    "slideshow": {
     "slide_type": "slide"
    }
   },
   "source": [
    "# 2.3 What is this course about?"
   ]
  },
  {
   "cell_type": "markdown",
   "id": "4e11e321",
   "metadata": {
    "cell_style": "split",
    "slideshow": {
     "slide_type": "fragment"
    }
   },
   "source": [
    "- Choose-your-own-adventure\n",
    "- Develop practical, in-demand, _foundational_ skills\n",
    "- Getting comfortable writing code and using the tools of the trade\n",
    "- Building a portfolio (final project)"
   ]
  },
  {
   "cell_type": "markdown",
   "id": "f6907577",
   "metadata": {
    "cell_style": "split",
    "slideshow": {
     "slide_type": "fragment"
    }
   },
   "source": [
    "![](https://m.media-amazon.com/images/I/71kLao+jZUL._SL1000_.jpg)"
   ]
  },
  {
   "cell_type": "markdown",
   "id": "d8a4068d",
   "metadata": {
    "slideshow": {
     "slide_type": "slide"
    }
   },
   "source": [
    "## 2.4 Why write code?"
   ]
  },
  {
   "cell_type": "markdown",
   "id": "e1009037",
   "metadata": {
    "slideshow": {
     "slide_type": "fragment"
    }
   },
   "source": [
    "- Precision\n",
    "- Scalability\n",
    "- Automation\n",
    "- Replicability\n",
    "- Embrace an open source lifestyle"
   ]
  },
  {
   "cell_type": "markdown",
   "id": "127ca5b0",
   "metadata": {
    "slideshow": {
     "slide_type": "slide"
    }
   },
   "source": [
    "## 2.5 Final projects"
   ]
  },
  {
   "cell_type": "markdown",
   "id": "e6b48a1b",
   "metadata": {
    "slideshow": {
     "slide_type": "fragment"
    }
   },
   "source": [
    "What makes a good data analysis/project:"
   ]
  },
  {
   "cell_type": "markdown",
   "id": "e3bc20d1",
   "metadata": {
    "cell_style": "split",
    "slideshow": {
     "slide_type": "fragment"
    }
   },
   "source": [
    "- Sophisticated tools?\n",
    "- Complex code?\n",
    "- Tons of data?\n",
    "- Novel data?"
   ]
  },
  {
   "cell_type": "markdown",
   "id": "83338cad",
   "metadata": {
    "cell_style": "split",
    "slideshow": {
     "slide_type": "fragment"
    }
   },
   "source": [
    "![](https://i.imgflip.com/8cpgfm.jpg)"
   ]
  },
  {
   "cell_type": "markdown",
   "id": "a5f306d4",
   "metadata": {
    "slideshow": {
     "slide_type": "slide"
    }
   },
   "source": [
    "## 2.5 Final projects\n",
    "\n",
    "What makes a good data analysis/project:\n",
    "- A good research question\n",
    "- Equal parts data + human judgement\n",
    "- Combine common/existing datasets in new ways\n",
    "- Recognize natural experiments (be opportunistic!)"
   ]
  },
  {
   "cell_type": "markdown",
   "id": "d32623d7",
   "metadata": {
    "slideshow": {
     "slide_type": "slide"
    }
   },
   "source": [
    "## 2.6 Keys to success in this course?\n",
    "\n",
    "- Be kind\n",
    "- Demonstrate humility\n",
    "- Be curious\n",
    "- Push yourself\n",
    "- Develop your \"toolkit\"\n",
    "- Use me as a resource!"
   ]
  },
  {
   "cell_type": "markdown",
   "id": "c103fa84",
   "metadata": {
    "slideshow": {
     "slide_type": "slide"
    }
   },
   "source": [
    "# 3. Syllabus"
   ]
  },
  {
   "cell_type": "markdown",
   "id": "d35202ce",
   "metadata": {
    "slideshow": {
     "slide_type": "fragment"
    }
   },
   "source": [
    "- a living document: https://github.com/mxndrwgrdnr/UCB_CYPLAN255_2024\n",
    "- highlights:\n",
    "   - attendance policy\n",
    "   - guest lectures: TBD\n",
    "   - extra credit for dead links or wrong grades"
   ]
  },
  {
   "cell_type": "markdown",
   "id": "6f14a7ca",
   "metadata": {
    "slideshow": {
     "slide_type": "slide"
    }
   },
   "source": [
    "# 4. For next time "
   ]
  },
  {
   "cell_type": "markdown",
   "id": "ab382aca",
   "metadata": {
    "slideshow": {
     "slide_type": "fragment"
    }
   },
   "source": [
    "## 4.1 Homework\n",
    "1. Complete the [pre-semester survey](https://forms.gle/2x8Bw913GpxukYwFA) if you have not already done so\n",
    "2. Create an account on github.com and [fork](https://docs.github.com/en/get-started/quickstart/fork-a-repo) the [class repo](https://github.com/mxndrwgrdnr/UCB_CYPLAN255_2024)\n",
    "3. Explore the wiki on the class repo: https://github.com/mxndrwgrdnr/UCB_CYPLAN255_2024/wiki\n",
    "4. Submit (via bCourses) three (3) interesting, publically available datasources that might be relevant to this class\n",
    " "
   ]
  },
  {
   "cell_type": "markdown",
   "id": "ecf864fb",
   "metadata": {
    "slideshow": {
     "slide_type": "fragment"
    }
   },
   "source": [
    "## 4.2 Other logistics\n",
    "- The waitlist (it is long)\n",
    "- Office hours\n",
    "- \"Berkeley time\"?"
   ]
  },
  {
   "cell_type": "markdown",
   "id": "a734994c",
   "metadata": {
    "slideshow": {
     "slide_type": "slide"
    }
   },
   "source": [
    "# 5. Questions?"
   ]
  }
 ],
 "metadata": {
  "celltoolbar": "Slideshow",
  "kernelspec": {
   "display_name": "Python [conda env:cp255] *",
   "language": "python",
   "name": "conda-env-cp255-py"
  },
  "language_info": {
   "codemirror_mode": {
    "name": "ipython",
    "version": 3
   },
   "file_extension": ".py",
   "mimetype": "text/x-python",
   "name": "python",
   "nbconvert_exporter": "python",
   "pygments_lexer": "ipython3",
   "version": "3.9.10"
  },
  "toc": {
   "base_numbering": 1,
   "nav_menu": {},
   "number_sections": false,
   "sideBar": false,
   "skip_h1_title": true,
   "title_cell": "Table of Contents",
   "title_sidebar": "Contents",
   "toc_cell": false,
   "toc_position": {},
   "toc_section_display": true,
   "toc_window_display": false
  }
 },
 "nbformat": 4,
 "nbformat_minor": 5
}
