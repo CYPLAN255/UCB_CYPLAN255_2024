{
 "cells": [
  {
   "cell_type": "markdown",
   "id": "893c435f",
   "metadata": {
    "slideshow": {
     "slide_type": "slide"
    }
   },
   "source": [
    "# CYPLAN 255, Spring 2024\n",
    "## Urban Informatics and Data Visualization\n",
    "\n",
    "**Instructor: Max Gardner** <br>\n",
    "**GSI: Meiqing Li**"
   ]
  },
  {
   "cell_type": "markdown",
   "id": "8ff6adeb",
   "metadata": {
    "slideshow": {
     "slide_type": "slide"
    }
   },
   "source": [
    "# Lecture 02 -- Intro to the Command Line\n",
    "*******\n",
    "January 22, 2024"
   ]
  },
  {
   "cell_type": "markdown",
   "id": "71e23616",
   "metadata": {
    "slideshow": {
     "slide_type": "slide"
    }
   },
   "source": [
    "# Agenda\n",
    "1. Announcements\n",
    "2. Command-line basics\n",
    "3. Getting started with GitHub\n",
    "4. For next time\n",
    "5. Questions"
   ]
  },
  {
   "cell_type": "markdown",
   "id": "57f40484",
   "metadata": {
    "slideshow": {
     "slide_type": "slide"
    }
   },
   "source": [
    "# 1. Announcements"
   ]
  },
  {
   "cell_type": "markdown",
   "id": "c5a34131",
   "metadata": {
    "slideshow": {
     "slide_type": "fragment"
    }
   },
   "source": [
    "- Class recordings on bCourses\n",
    "- Three public datasets\n",
    "- Broken link to Windows command-line guide\n",
    "- Office hours\n",
    "- Forks"
   ]
  },
  {
   "cell_type": "markdown",
   "id": "018e05d6",
   "metadata": {
    "slideshow": {
     "slide_type": "slide"
    }
   },
   "source": [
    "# 2. Command-line Basics"
   ]
  },
  {
   "cell_type": "markdown",
   "id": "b8a50e2a",
   "metadata": {
    "slideshow": {
     "slide_type": "slide"
    }
   },
   "source": [
    "## 2.1 Terminology"
   ]
  },
  {
   "cell_type": "markdown",
   "id": "a672689e",
   "metadata": {
    "cell_style": "split",
    "slideshow": {
     "slide_type": "fragment"
    }
   },
   "source": [
    "- Command-line Interface (CLI)\n",
    "   - Generic term which describes how the user sends commands to a computer program\n",
    "   - As opposed to a _graphical_ user interface (GUI), i.e. point-and-click\n",
    "- Command-line interpreter or “shell”\n",
    "   - Refers to a specific program which handles the interface\n",
    "   - Windows:\n",
    "      - DOS\n",
    "      - cmd.exe\n",
    "      - Powershell\n",
    "   - Unix-like\n",
    "      - Bash (“Bourne Again Shell”)\n",
    "      - Zsh (“Z shell”)\n",
    "      - Ksh (“KornShell”)"
   ]
  },
  {
   "cell_type": "markdown",
   "id": "c5c412fe",
   "metadata": {
    "cell_style": "split",
    "slideshow": {
     "slide_type": "fragment"
    }
   },
   "source": [
    "<img src=\"https://elessar20.files.wordpress.com/2008/05/korn1.jpg\" align=\"right\">"
   ]
  },
  {
   "cell_type": "markdown",
   "id": "8cd9384d",
   "metadata": {
    "slideshow": {
     "slide_type": "slide"
    }
   },
   "source": [
    "## 2.2 Options for emulating a Bash shell on Windows"
   ]
  },
  {
   "cell_type": "markdown",
   "id": "a289ce0a",
   "metadata": {
    "slideshow": {
     "slide_type": "fragment"
    }
   },
   "source": [
    "- [Cygwin](https://www.cygwin.com/)\n",
    "- Git Bash via [Git for Windows](https://gitforwindows.org/)\n",
    "   - Git-specific commands\n",
    "- [Windows Subsystem for Linux](https://docs.microsoft.com/en-us/windows/wsl/about)\n",
    "   - Native Bash support on Windows (requires Windows 10+)\n",
    "- [Terminal emulator](https://www.jetbrains.com/help/pycharm/terminal-emulator.html) via [PyCharm](https://www.jetbrains.com/pycharm/download/)\n",
    "   - All-in-one “IDE” solution (Bash/Python/version control)\n",
    "- Terminal on https://datahub.berkeley.edu\n",
    "   - Actual Bash shell (hosted remotely)\n",
    "   - Cannot really save your work\n"
   ]
  },
  {
   "cell_type": "markdown",
   "id": "fc8287ca",
   "metadata": {
    "slideshow": {
     "slide_type": "slide"
    }
   },
   "source": [
    "## 2.3 Basic shell commands and programs \\<LIVE DEMO>"
   ]
  },
  {
   "cell_type": "markdown",
   "id": "4ae2992c",
   "metadata": {
    "slideshow": {
     "slide_type": "fragment"
    }
   },
   "source": [
    "|COMMAND|DESCRIPTION|\n",
    "|:--|:--|\n",
    "|`whoami`\t\t\t|<tab> print username\t\t|\n",
    "|`pwd`\t\t\t\t|print working (current) directory|\n",
    "|`ls`\t\t\t\t|list files in working directory|\n",
    "|`cat <filename>`\t|concatenate (print) contents of a file all at once|\n",
    "|`head <filename>`\t|print the first N lines of a file|\n",
    "|`less <filename>`\t|scroll through a file one line at a time|\n",
    "|`man <cmd>`\t\t|show the manual/documentation for a command|\n",
    "|`top`\t\t\t\t|show information about processes|\n",
    "|`echo <arg>`\t\t|print arguments (strings, env vars, etc.)|\n"
   ]
  },
  {
   "cell_type": "markdown",
   "id": "ae2da005",
   "metadata": {
    "slideshow": {
     "slide_type": "slide"
    }
   },
   "source": [
    "## 2.4 Navigating the filesystem \\<LIVE DEMO>"
   ]
  },
  {
   "cell_type": "markdown",
   "id": "7f90bf58",
   "metadata": {
    "slideshow": {
     "slide_type": "fragment"
    }
   },
   "source": [
    "|COMMAND|DESCRIPTION|\n",
    "|:--|:--|\n",
    "|`cd <path>`\t\t\t|change directory|\n",
    "|`touch <filename>`\t|make a file|\n",
    "|`rm <filename>`\t|remove a file|\n",
    "|`mkdir <dirname>`\t|make a directory|\n",
    "|`cp <old> <new>`\t    |copy a file or directory to a new file or directory|\n",
    "|`mv <old> <new>`\t    |move a file or directory to a new file or directory|\n"
   ]
  },
  {
   "cell_type": "markdown",
   "id": "433936f7",
   "metadata": {
    "slideshow": {
     "slide_type": "slide"
    }
   },
   "source": [
    "## 2.5 Special characters in Unix filesystems"
   ]
  },
  {
   "cell_type": "markdown",
   "id": "baf1b8d3",
   "metadata": {
    "slideshow": {
     "slide_type": "fragment"
    }
   },
   "source": [
    "|CHARACTER|DESCRIPTION|\n",
    "|:--|:--|\n",
    "|`.` or `./`|\tcurrent directory|\n",
    "|`..`\t\t|up one directory|\n",
    "|`~` or `~/`|\thome directory|\n",
    "|`/`\t\t|root directory|\n",
    "|`*`\t\t|wildcard|"
   ]
  },
  {
   "cell_type": "markdown",
   "id": "50ea30ab",
   "metadata": {
    "slideshow": {
     "slide_type": "slide"
    }
   },
   "source": [
    "## 2.6 Choosing a text editor"
   ]
  },
  {
   "cell_type": "markdown",
   "id": "f720ad1f",
   "metadata": {
    "cell_style": "split",
    "slideshow": {
     "slide_type": "fragment"
    }
   },
   "source": [
    "- Command-line:\n",
    "   - Pico / Nano*\n",
    "   - Vi / Vim*\n",
    "   - Emacs\n",
    "- GUI:\n",
    "   - Notepad(++)\n",
    "   - Sublime Text*\n",
    "- IDE:\n",
    "   - PyCharm\n",
    "   - VSCode\n"
   ]
  },
  {
   "cell_type": "markdown",
   "id": "4e793182",
   "metadata": {
    "cell_style": "split",
    "slideshow": {
     "slide_type": "fragment"
    }
   },
   "source": [
    "<img src=\"https://www.ssp.sh/blog/why-using-neovim-data-engineer-and-writer-2023/vim-learning-curve.png\" >"
   ]
  },
  {
   "cell_type": "markdown",
   "id": "166228b9",
   "metadata": {
    "slideshow": {
     "slide_type": "slide"
    }
   },
   "source": [
    "# 3. Git + GitHub"
   ]
  },
  {
   "cell_type": "markdown",
   "id": "20e0dd83",
   "metadata": {
    "slideshow": {
     "slide_type": "fragment"
    }
   },
   "source": [
    "- actual docs: https://docs.github.com/en/get-started/getting-started-with-git\n",
    "- CYPLAN 255 cheat sheet: https://github.com/mxndrwgrdnr/UCB_CYPLAN255_2024/blob/main/misc/getting_started_with_github.pdf"
   ]
  },
  {
   "cell_type": "markdown",
   "id": "c2c5debd",
   "metadata": {
    "slideshow": {
     "slide_type": "slide"
    }
   },
   "source": [
    "## 3.1 Git"
   ]
  },
  {
   "cell_type": "markdown",
   "id": "ff5e8ccc",
   "metadata": {
    "cell_style": "split",
    "slideshow": {
     "slide_type": "fragment"
    }
   },
   "source": [
    "Git is a tool for **distributed version control**:\n",
    "   - Track changes\n",
    "   - Log history of changes\n",
    "   - Merge changes and histories from multiple contributors\n"
   ]
  },
  {
   "cell_type": "markdown",
   "id": "87b5fd82",
   "metadata": {
    "cell_style": "split",
    "slideshow": {
     "slide_type": "fragment"
    }
   },
   "source": [
    "<img src=\"https://www.nobledesktop.com/image/blog/git-branches-merge.png\" align=\"center\" width=80%>"
   ]
  },
  {
   "cell_type": "markdown",
   "id": "fda631ab",
   "metadata": {
    "slideshow": {
     "slide_type": "slide"
    }
   },
   "source": [
    "## 3.2 GitHub"
   ]
  },
  {
   "cell_type": "markdown",
   "id": "a3e808e2",
   "metadata": {
    "cell_style": "split",
    "slideshow": {
     "slide_type": "fragment"
    }
   },
   "source": [
    "- GitHub is a website/service for hosting Git-based projects\n",
    "- Stores a **remote** copy of a project along with commit history\n",
    "- Tracks **branches** and **forks** of the main copy (repository)\n",
    "- Provides a user interface for communicating with collaborators, tracking bugs, viewing commit history, and executing specific Git operations\n",
    "- Industry standard for open source software projects\n",
    "- GitHub projects as portfolio/CV/résumé\n",
    "- GitHub Pages site as actual portfolio/CV/résumé\n"
   ]
  },
  {
   "cell_type": "markdown",
   "id": "354efa96",
   "metadata": {
    "cell_style": "split",
    "slideshow": {
     "slide_type": "fragment"
    }
   },
   "source": [
    "<img src=\"https://cdn-icons-png.flaticon.com/512/25/25231.png\" align=\"right\" width=50%>"
   ]
  },
  {
   "cell_type": "markdown",
   "id": "6f0819e2",
   "metadata": {
    "slideshow": {
     "slide_type": "slide"
    }
   },
   "source": [
    "## 3.3 Terminology"
   ]
  },
  {
   "cell_type": "markdown",
   "id": "fa736dc5",
   "metadata": {
    "slideshow": {
     "slide_type": "fragment"
    }
   },
   "source": [
    "|TERM| DESCRIPTION|\n",
    "|:--|:--|\n",
    "|**repository** (noun) | a folder of files constituting a project|\n",
    "|**commit** (noun/verb) | a set of changes entered into the tracking system|\n",
    "|**push** (verb) | uploading commits from your local work space to GitHub|\n",
    "|**branch** (noun) | a separate working copy of the files, accumulating changes that will be merged into the main version later on|\n",
    "|**pull request** (noun) | a request, made through GitHub, for the person in charge of the main branch to merge in changes from another branch|\n",
    "|**fork** (noun/verb) | a third-party copy of a public repository, only loosely connected to the original|\n",
    "|**remote** (noun/adjective) | the copy of your project stored on GitHub|"
   ]
  },
  {
   "cell_type": "markdown",
   "id": "7feba35f",
   "metadata": {
    "slideshow": {
     "slide_type": "slide"
    }
   },
   "source": [
    "## 3.4 Configuring Git \\<LIVE DEMO>"
   ]
  },
  {
   "cell_type": "markdown",
   "id": "dc11a5dc",
   "metadata": {
    "slideshow": {
     "slide_type": "fragment"
    }
   },
   "source": [
    "In a command-line terminal:\n",
    "   - `git config --global user.name \"Mona Lisa\"`\n",
    "   - `git config --global user.email \"mlisa@berkeley.edu\"`  <-- must use e-mail associated with github account\n",
    "   - `git config --list`\n"
   ]
  },
  {
   "cell_type": "markdown",
   "id": "307922d7",
   "metadata": {
    "slideshow": {
     "slide_type": "slide"
    }
   },
   "source": [
    "## 3.5 Typical GitHub workflow on local"
   ]
  },
  {
   "cell_type": "markdown",
   "id": "013b73a4",
   "metadata": {
    "slideshow": {
     "slide_type": "fragment"
    }
   },
   "source": [
    "1. Do some work (make local changes)\n",
    "2. Make sure you’re on the right branch\n",
    "   - `git branch or git checkout <branch name>`\n",
    "3. Tell Git which changes you want to commit\n",
    "   - `git add <filename>`\n",
    "4. Commit your changes and describe them\n",
    "   - `git commit -m “this is my first git commit”`\n",
    "5. Push your local changes to remote\n",
    "   - `git push`\n"
   ]
  },
  {
   "cell_type": "markdown",
   "id": "0110cfc0",
   "metadata": {
    "slideshow": {
     "slide_type": "slide"
    }
   },
   "source": [
    "## 3.6 GitHub Authentication"
   ]
  },
  {
   "cell_type": "markdown",
   "id": "23e5cffc",
   "metadata": {
    "slideshow": {
     "slide_type": "fragment"
    }
   },
   "source": [
    "Two options:\n",
    "   - https + access token\n",
    "      - https://docs.github.com/en/authentication/keeping-your-account-and-data-secure/managing-your-personal-access-tokens#creating-a-personal-access-token-classic\n",
    "   - ssh:\n",
    "      - https://docs.github.com/en/authentication/connecting-to-github-with-ssh"
   ]
  },
  {
   "cell_type": "markdown",
   "id": "92546a4e",
   "metadata": {
    "slideshow": {
     "slide_type": "fragment"
    }
   },
   "source": [
    "### 3.6.1 GitHub Authentication with ssh:\n",
    "1. `ssh-keygen -t rsa -C \"your_email@example.com\"`\n",
    "2. “Enter file in which to save the key (/home/jovyan/.ssh/id_ed25519):”\n",
    "   - `<return>`\n",
    "3. “Enter passphrase (empty for no passphrase):”\n",
    "   - `<return>`\n",
    "4. “Enter passphrase again:”\n",
    "   - `<return>`\n",
    "5. Add your ssh key to your GitHub account\n",
    "   - https://docs.github.com/en/authentication/connecting-to-github-with-ssh/adding-a-new-ssh-key-to-your-github-account\n"
   ]
  },
  {
   "cell_type": "markdown",
   "id": "a6e2eade",
   "metadata": {
    "slideshow": {
     "slide_type": "slide"
    }
   },
   "source": [
    "## 3.7 Forking the class GitHub repo \\<LIVE DEMO>"
   ]
  },
  {
   "cell_type": "markdown",
   "id": "832cb2d1",
   "metadata": {
    "slideshow": {
     "slide_type": "slide"
    }
   },
   "source": [
    "### 3.7.1 Visual workflow - Creating (and maintaining) your class GitHub Repository\n",
    "\n",
    "![](https://lh3.googleusercontent.com/pw/ABLVV85Bubjq0xhJS9gCfu3yZvHRcBPEvSQ5bpclOoILc4wAtyv2pxJtGsUaTggq2ttXUW4XzUbA8eQz0HHh1UW3kyfPwWRckHTL1oqgYm1EjFIIAuopkJTHOm4J77zR-7NuAzoPTNcy-S_8q72sZG7P6uvGYQ=w3382-h1470-s-no)"
   ]
  },
  {
   "cell_type": "markdown",
   "id": "087f720e",
   "metadata": {
    "slideshow": {
     "slide_type": "slide"
    }
   },
   "source": [
    "### 3.7.1 Visual workflow - Creating (and maintaining) your class GitHub Repository\n",
    "\n",
    "![](https://lh3.googleusercontent.com/pw/ABLVV87tgu2R1qYp6jIBPPX3gk5oXSM7lYnuvLNxecf5cpZ25TMj5I65sp-jhPGXKV5wmmxBfOlMHiueKRNM0Eo_aOLaskxCEsGOlrmG1-xTydRMal78c_hIw6EnmD9ctasSeYdmGo-JPMScD9DfsILPsu5v3Q=w3464-h1512-s-no)"
   ]
  },
  {
   "cell_type": "markdown",
   "id": "697d2026",
   "metadata": {
    "slideshow": {
     "slide_type": "slide"
    }
   },
   "source": [
    "### 3.7.1 Visual workflow - Creating (and maintaining) your class GitHub Repository\n",
    "\n",
    "![](https://lh3.googleusercontent.com/pw/ABLVV85_bnKSuwkz8f2P72Sei-ucidIIELVg18frkd-umEwN4un8NSpUyCz5EIfl93c4d3TWKrd8a_QJsf_UkJ6C5DvKUqJOPVC_BO7YGjPD6dM9RUT3h18MsC9JkoiOzRppHBNxMm_DQ3kgxt8HeD8HxOYXSQ=w3478-h1498-s-no)"
   ]
  },
  {
   "cell_type": "markdown",
   "id": "83ef9a14",
   "metadata": {
    "slideshow": {
     "slide_type": "slide"
    }
   },
   "source": [
    "### 3.7.1 Visual workflow - Creating (and maintaining) your class GitHub Repository\n",
    "\n",
    "![](https://lh3.googleusercontent.com/pw/ABLVV84wrG-7FUen9lAb3UkfD5Cg_KYFJutSW8RPXf0abaLKHnn4UJXEI0eDIXRQbP0fZviMeEWiEuBF-4YXpyCZ86ZD0rBsA-78Ps0WYxdW_X_XQqLjyYWPIph5rcV3T06kdcK-QwmUCu4NBo1NCEskHQ0oTQ=w3450-h1522-s-no)"
   ]
  },
  {
   "cell_type": "markdown",
   "id": "e2054126",
   "metadata": {
    "slideshow": {
     "slide_type": "slide"
    }
   },
   "source": [
    "### 3.7.1 Visual workflow - Submitting your assignments\n",
    "![](https://lh3.googleusercontent.com/pw/ABLVV85bWdKaY5HzmAdl5598xrZuwtPNs5Yo-eCB9Ir9Tkvnok4wsuKkpo7MOUMWFILdzIE0Owfet5I_gU8CLHkVgUihfLOLKdzAZOVAZQHG2ggTU5xT12FPYAxVYOzYrV3AM9kLS2MqPropV3F8DJ0qluWL1g=w3412-h1510-s-no)"
   ]
  },
  {
   "cell_type": "markdown",
   "id": "79e9fad0",
   "metadata": {
    "slideshow": {
     "slide_type": "slide"
    }
   },
   "source": [
    "### 3.7.2 Assignment 0"
   ]
  },
  {
   "cell_type": "markdown",
   "id": "253b57d5",
   "metadata": {
    "slideshow": {
     "slide_type": "fragment"
    }
   },
   "source": [
    "- Part A) Breakout Rooms Part I\n",
    "   1. Open a browser and go to https://github.com/mxndrwgrdnr/UCB_CYPLAN255_2024\n",
    "   2. Create your own [fork](https://docs.github.com/en/get-started/quickstart/fork-a-repo)\n",
    "   3. [Clone](https://docs.github.com/en/get-started/quickstart/fork-a-repo#cloning-your-forked-repository) your fork\n",
    "- Part B) 5 MINUTE BREAK: Instructor will create Assignment 0\n",
    "- Part C) Breakout Rooms Part II (Assignment 0)\n",
    "   1. [Sync your fork](https://docs.github.com/en/pull-requests/collaborating-with-pull-requests/working-with-forks/syncing-a-fork)\n",
    "   2. `git pull` the changes to your local (cloned) copy\n",
    "   3. `git checkout` the “hw0_submissions” [branch](https://git-scm.com/book/en/v2/Git-Branching-Branches-in-a-Nutshell)\n",
    "   4. Create/copy a new file WITH A UNIQUE NAME and make some changes to it\n",
    "   5. Add, commit, and push your changes (see previous slide)\n",
    "   6. [Open a pull request](https://docs.github.com/en/pull-requests/collaborating-with-pull-requests/proposing-changes-to-your-work-with-pull-requests/creating-a-pull-request)\n",
    "\n",
    "Consult the cheat sheet if you get stuck!\n",
    "   - https://github.com/mxndrwgrdnr/UCB_CYPLAN255_2024/blob/main/misc/getting_started_with_github.pdf"
   ]
  },
  {
   "cell_type": "markdown",
   "id": "18f3ca1a",
   "metadata": {
    "slideshow": {
     "slide_type": "slide"
    }
   },
   "source": [
    "# 4. For next time"
   ]
  },
  {
   "cell_type": "markdown",
   "id": "3d150960",
   "metadata": {
    "slideshow": {
     "slide_type": "slide"
    }
   },
   "source": [
    "## 4.1 “Homework\"\n",
    "- Complete Assignment 0\n",
    "- Complete any of the readings you have not completed\n"
   ]
  },
  {
   "cell_type": "markdown",
   "id": "c834f7e7",
   "metadata": {
    "slideshow": {
     "slide_type": "slide"
    }
   },
   "source": [
    "# 5. Questions?"
   ]
  }
 ],
 "metadata": {
  "celltoolbar": "Slideshow",
  "kernelspec": {
   "display_name": "Python [conda env:cp255] *",
   "language": "python",
   "name": "conda-env-cp255-py"
  },
  "language_info": {
   "codemirror_mode": {
    "name": "ipython",
    "version": 3
   },
   "file_extension": ".py",
   "mimetype": "text/x-python",
   "name": "python",
   "nbconvert_exporter": "python",
   "pygments_lexer": "ipython3",
   "version": "3.9.10"
  },
  "toc": {
   "base_numbering": 1,
   "nav_menu": {},
   "number_sections": false,
   "sideBar": false,
   "skip_h1_title": true,
   "title_cell": "Table of Contents",
   "title_sidebar": "Contents",
   "toc_cell": false,
   "toc_position": {},
   "toc_section_display": true,
   "toc_window_display": false
  }
 },
 "nbformat": 4,
 "nbformat_minor": 5
}
